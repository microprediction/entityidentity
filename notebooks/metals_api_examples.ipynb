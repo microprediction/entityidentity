{
 "cells": [
  {
   "cell_type": "markdown",
   "metadata": {},
   "source": [
    "# Metals Ontology API Examples\n",
    "\n",
    "This notebook demonstrates all API functions from the metals module, following section 5 of METALS_ONTOLOGY_PLAN.md."
   ]
  },
  {
   "cell_type": "code",
   "execution_count": null,
   "metadata": {},
   "outputs": [],
   "source": [
    "# Import required modules\n",
    "import sys\n",
    "import os\n",
    "sys.path.insert(0, os.path.abspath('..'))\n",
    "\n",
    "from entityidentity import (\n",
    "    metal_identifier,\n",
    "    match_metal,\n",
    "    list_metals,\n",
    "    load_metals,\n",
    "    extract_metals_from_text,\n",
    "    extract_metal_pairs\n",
    ")\n",
    "import pandas as pd"
   ]
  },
  {
   "cell_type": "markdown",
   "metadata": {},
   "source": [
    "## 1. Load Metals Database\n",
    "\n",
    "The `load_metals()` function loads the compiled Parquet database and caches it."
   ]
  },
  {
   "cell_type": "code",
   "execution_count": null,
   "metadata": {},
   "outputs": [],
   "source": [
    "# Load the metals database\n",
    "metals_df = load_metals()\n",
    "print(f\"Loaded {len(metals_df)} metals\")\n",
    "print(f\"\\nColumns: {', '.join(metals_df.columns)}\")\n",
    "print(f\"\\nFirst 5 metals:\")\n",
    "metals_df[['name', 'symbol', 'category_bucket', 'cluster_id']].head()"
   ]
  },
  {
   "cell_type": "markdown",
   "metadata": {},
   "source": [
    "## 2. Metal Identifier - Core Resolution Function\n",
    "\n",
    "The `metal_identifier()` function resolves metal names to their canonical form."
   ]
  },
  {
   "cell_type": "code",
   "execution_count": null,
   "metadata": {},
   "outputs": [],
   "source": [
    "# Example 1: Simple symbol resolution\n",
    "result = metal_identifier(\"Pt\")\n",
    "if result:\n",
    "    print(\"Resolved 'Pt':\")\n",
    "    print(f\"  Name: {result['name']}\")\n",
    "    print(f\"  Symbol: {result['symbol']}\")\n",
    "    print(f\"  Category: {result['category_bucket']}\")\n",
    "    print(f\"  Default unit: {result['default_unit']}\")"
   ]
  },
  {
   "cell_type": "code",
   "execution_count": null,
   "metadata": {},
   "outputs": [],
   "source": [
    "# Example 2: Resolution with category hint\n",
    "result = metal_identifier(\"chrome\", category=\"ferroalloy\")\n",
    "if result:\n",
    "    print(\"Resolved 'chrome' with ferroalloy hint:\")\n",
    "    print(f\"  Name: {result['name']}\")\n",
    "    print(f\"  Code: {result.get('code', 'N/A')}\")\n",
    "    print(f\"  Default basis: {result.get('default_basis', 'N/A')}\")"
   ]
  },
  {
   "cell_type": "code",
   "execution_count": null,
   "metadata": {},
   "outputs": [],
   "source": [
    "# Example 3: Trade specification resolution\n",
    "apt = metal_identifier(\"APT 88.5%\")\n",
    "if apt:\n",
    "    print(\"Resolved 'APT 88.5%':\")\n",
    "    print(f\"  Name: {apt['name']}\")\n",
    "    print(f\"  Formula: {apt.get('formula', 'N/A')}\")\n",
    "    print(f\"  Code: {apt.get('code', 'N/A')}\")\n",
    "    print(f\"  Default basis: {apt.get('default_basis', 'N/A')}\")"
   ]
  },
  {
   "cell_type": "code",
   "execution_count": null,
   "metadata": {},
   "outputs": [],
   "source": [
    "# Example 4: Chemical form resolution\n",
    "li_carb = metal_identifier(\"lithium carbonate\")\n",
    "if li_carb:\n",
    "    print(\"Resolved 'lithium carbonate':\")\n",
    "    print(f\"  Name: {li_carb['name']}\")\n",
    "    print(f\"  Formula: {li_carb.get('formula', 'N/A')}\")\n",
    "    print(f\"  Category: {li_carb['category_bucket']}\")\n",
    "    print(f\"  Cluster: {li_carb.get('cluster_id', 'N/A')}\")"
   ]
  },
  {
   "cell_type": "code",
   "execution_count": null,
   "metadata": {},
   "outputs": [],
   "source": [
    "# Example 5: Resolution with threshold\n",
    "result = metal_identifier(\"unobtainium\", threshold=95)\n",
    "print(f\"'unobtainium' with threshold 95: {result}\")\n",
    "\n",
    "# Lower threshold might find something\n",
    "result = metal_identifier(\"unobtainium\", threshold=50)\n",
    "print(f\"'unobtainium' with threshold 50: {result.get('name') if result else None}\")"
   ]
  },
  {
   "cell_type": "markdown",
   "metadata": {},
   "source": [
    "## 3. Match Metal - Top-K Candidates\n",
    "\n",
    "The `match_metal()` function returns top-K candidates with scores, useful for review UIs."
   ]
  },
  {
   "cell_type": "code",
   "execution_count": null,
   "metadata": {},
   "outputs": [],
   "source": [
    "# Find top matches for \"tungsten\"\n",
    "candidates = match_metal(\"tungsten\", k=5)\n",
    "\n",
    "print(\"Top 5 matches for 'tungsten':\")\n",
    "for i, cand in enumerate(candidates, 1):\n",
    "    print(f\"  {i}. {cand['name']} (score: {cand.get('score', 'N/A')})\")\n",
    "    if cand.get('code'):\n",
    "        print(f\"     Code: {cand['code']}\")"
   ]
  },
  {
   "cell_type": "code",
   "execution_count": null,
   "metadata": {},
   "outputs": [],
   "source": [
    "# Find matches for \"lithium\"\n",
    "candidates = match_metal(\"lithium\", k=5)\n",
    "\n",
    "print(\"Top 5 matches for 'lithium':\")\n",
    "for i, cand in enumerate(candidates, 1):\n",
    "    print(f\"  {i}. {cand['name']}\")\n",
    "    if cand.get('formula'):\n",
    "        print(f\"     Formula: {cand['formula']}\")"
   ]
  },
  {
   "cell_type": "markdown",
   "metadata": {},
   "source": [
    "## 4. List Metals - Filter by Category or Cluster\n",
    "\n",
    "The `list_metals()` function returns DataFrames filtered by category or supply chain cluster."
   ]
  },
  {
   "cell_type": "code",
   "execution_count": null,
   "metadata": {},
   "outputs": [],
   "source": [
    "# List all PGM metals\n",
    "pgm_metals = list_metals(category=\"pgm\")\n",
    "print(\"PGM Complex metals:\")\n",
    "print(pgm_metals[['name', 'symbol', 'default_unit']].to_string())"
   ]
  },
  {
   "cell_type": "code",
   "execution_count": null,
   "metadata": {},
   "outputs": [],
   "source": [
    "# List metals in porphyry copper chain\n",
    "copper_chain = list_metals(cluster=\"porphyry_copper_chain\")\n",
    "print(\"Porphyry copper chain metals:\")\n",
    "for _, metal in copper_chain.iterrows():\n",
    "    print(f\"  - {metal['name']}: {metal.get('notes', '')}\")"
   ]
  },
  {
   "cell_type": "code",
   "execution_count": null,
   "metadata": {},
   "outputs": [],
   "source": [
    "# List all battery metals\n",
    "battery_metals = list_metals(category=\"battery\")\n",
    "print(f\"Battery metals ({len(battery_metals)} total):\")\n",
    "print(\"\\nLithium forms:\")\n",
    "li_metals = battery_metals[battery_metals['name'].str.contains('Lithium', case=False)]\n",
    "for _, metal in li_metals.iterrows():\n",
    "    print(f\"  - {metal['name']}: {metal.get('formula', 'N/A')}\")\n",
    "\n",
    "print(\"\\nOther battery metals:\")\n",
    "other = battery_metals[~battery_metals['name'].str.contains('Lithium', case=False)]\n",
    "for _, metal in other.iterrows():\n",
    "    print(f\"  - {metal['name']}\")"
   ]
  },
  {
   "cell_type": "code",
   "execution_count": null,
   "metadata": {},
   "outputs": [],
   "source": [
    "# Count metals by category\n",
    "categories = [\"precious\", \"pgm\", \"base\", \"battery\", \"ree\", \"ferroalloy\", \"specialty\"]\n",
    "\n",
    "print(\"Metal counts by category:\")\n",
    "for cat in categories:\n",
    "    metals = list_metals(category=cat)\n",
    "    print(f\"  {cat:12} : {len(metals):3} metals\")"
   ]
  },
  {
   "cell_type": "markdown",
   "metadata": {},
   "source": [
    "## 5. Extract Metals from Text\n",
    "\n",
    "The `extract_metals_from_text()` function identifies metal references in unstructured text."
   ]
  },
  {
   "cell_type": "code",
   "execution_count": null,
   "metadata": {},
   "outputs": [],
   "source": [
    "# Example text with various metal references\n",
    "text = \"\"\"\n",
    "The Pt/Pd ratio in automotive catalysts has shifted due to price changes.\n",
    "APT 88.5% is trading at $320/mtu while lithium carbonate demand grows.\n",
    "The mine produces copper concentrate with Au and Ag credits.\n",
    "Battery-grade cobalt sulfate and nickel sulfate are critical for EVs.\n",
    "\"\"\"\n",
    "\n",
    "# Extract metal references\n",
    "metals_found = extract_metals_from_text(text)\n",
    "\n",
    "print(\"Metals found in text:\")\n",
    "for metal in metals_found:\n",
    "    snippet = text[metal['span'][0]:metal['span'][1]]\n",
    "    print(f\"  '{snippet}' -> {metal['query']} (type: {metal['hint']})\")\n",
    "    if 'category' in metal:\n",
    "        print(f\"    Category: {metal['category']}\")"
   ]
  },
  {
   "cell_type": "code",
   "execution_count": null,
   "metadata": {},
   "outputs": [],
   "source": [
    "# Extract and resolve metals\n",
    "print(\"\\nResolving extracted metals to canonical forms:\")\n",
    "print(\"-\" * 50)\n",
    "\n",
    "for metal_ref in metals_found:\n",
    "    resolved = metal_identifier(\n",
    "        metal_ref['query'],\n",
    "        category=metal_ref.get('category')\n",
    "    )\n",
    "    if resolved:\n",
    "        print(f\"'{metal_ref['query']}' -> {resolved['name']} ({resolved.get('metal_key', 'N/A')})\")\n",
    "        if resolved.get('formula'):\n",
    "            print(f\"  Formula: {resolved['formula']}\")\n",
    "        if resolved.get('default_basis'):\n",
    "            print(f\"  Basis: {resolved['default_basis']}\")"
   ]
  },
  {
   "cell_type": "code",
   "execution_count": null,
   "metadata": {},
   "outputs": [],
   "source": [
    "# Extract metal pairs\n",
    "pair_text = \"The Pt/Pd ratio, Ni-Co laterites, and Cu/Au/Ag deposits are important.\"\n",
    "pairs = extract_metal_pairs(pair_text)\n",
    "\n",
    "print(\"Metal pairs found:\")\n",
    "for pair in pairs:\n",
    "    print(f\"  {pair[0]}/{pair[1]}\")"
   ]
  },
  {
   "cell_type": "markdown",
   "metadata": {},
   "source": [
    "## 6. Supply Chain Analysis\n",
    "\n",
    "Analyze metal relationships through supply chain clusters."
   ]
  },
  {
   "cell_type": "code",
   "execution_count": null,
   "metadata": {},
   "outputs": [],
   "source": [
    "# Analyze by-products in different chains\n",
    "clusters = [\n",
    "    \"pgm_complex\",\n",
    "    \"porphyry_copper_chain\",\n",
    "    \"lead_zinc_chain\",\n",
    "    \"nickel_cobalt_chain\"\n",
    "]\n",
    "\n",
    "print(\"Supply chain cluster analysis:\")\n",
    "print(\"=\" * 50)\n",
    "\n",
    "for cluster in clusters:\n",
    "    metals = list_metals(cluster=cluster)\n",
    "    if not metals.empty:\n",
    "        print(f\"\\n{cluster}:\")\n",
    "        print(f\"  Primary/major: {', '.join(metals.head(2)['name'].tolist())}\")\n",
    "        if len(metals) > 2:\n",
    "            print(f\"  By-products: {', '.join(metals.iloc[2:]['name'].tolist())}\")"
   ]
  },
  {
   "cell_type": "markdown",
   "metadata": {},
   "source": [
    "## 7. Commercial Specifications\n",
    "\n",
    "Examine commercial trading specifications and units."
   ]
  },
  {
   "cell_type": "code",
   "execution_count": null,
   "metadata": {},
   "outputs": [],
   "source": [
    "# Check pricing basis for different metal forms\n",
    "metal_forms = [\n",
    "    \"APT\",\n",
    "    \"ferrochrome\",\n",
    "    \"lithium carbonate\",\n",
    "    \"cobalt sulfate\",\n",
    "    \"platinum\"\n",
    "]\n",
    "\n",
    "print(\"Commercial pricing basis:\")\n",
    "print(\"-\" * 50)\n",
    "\n",
    "for form in metal_forms:\n",
    "    metal = metal_identifier(form)\n",
    "    if metal:\n",
    "        print(f\"{metal['name']}:\")\n",
    "        print(f\"  Unit: {metal.get('default_unit', 'N/A')}\")\n",
    "        print(f\"  Basis: {metal.get('default_basis', 'N/A')}\")\n",
    "        if metal.get('pra_hint'):\n",
    "            print(f\"  PRA: {metal['pra_hint']}\")"
   ]
  },
  {
   "cell_type": "markdown",
   "metadata": {},
   "source": [
    "## 8. Data Sources Documentation\n",
    "\n",
    "Show the authoritative sources used for metal data (Section 10 of METALS_ONTOLOGY_PLAN.md)."
   ]
  },
  {
   "cell_type": "code",
   "execution_count": null,
   "metadata": {},
   "outputs": [],
   "source": [
    "# Document data sources\n",
    "sources_info = \"\"\"\n",
    "DATA SOURCE PRIORITY (Section 10 of METALS_ONTOLOGY_PLAN.md):\n",
    "\n",
    "1. IUPAC (International Union of Pure and Applied Chemistry)\n",
    "   - Element names and symbols\n",
    "   - Atomic properties\n",
    "   - Source priority: 1\n",
    "\n",
    "2. USGS (United States Geological Survey)\n",
    "   - Supply chain relationships\n",
    "   - By-product associations\n",
    "   - Deposit models\n",
    "   - Source priority: 2\n",
    "\n",
    "3. WCO-HS (World Customs Organization - Harmonized System)\n",
    "   - HS 2022 classification codes\n",
    "   - Trade nomenclature\n",
    "   - Source priority: 3\n",
    "\n",
    "4. Fastmarkets (formerly Metal Bulletin)\n",
    "   - PRA price specifications\n",
    "   - Market standard units/basis\n",
    "   - Commercial grades\n",
    "   - Source priority: 4\n",
    "\"\"\"\n",
    "\n",
    "print(sources_info)\n",
    "\n",
    "# Show source attributions in the data\n",
    "sample_metals = ['platinum', 'APT', 'lithium carbonate']\n",
    "print(\"\\nSource attributions in data:\")\n",
    "for name in sample_metals:\n",
    "    metal = metal_identifier(name)\n",
    "    if metal and 'sources' in metal:\n",
    "        print(f\"  {metal['name']}: {metal.get('sources', 'N/A')}\")"
   ]
  }
 ],
 "metadata": {
  "kernelspec": {
   "display_name": "Python 3",
   "language": "python",
   "name": "python3"
  },
  "language_info": {
   "codemirror_mode": {
    "name": "ipython",
    "version": 3
   },
   "file_extension": ".py",
   "mimetype": "text/x-python",
   "name": "python",
   "nbconvert_exporter": "python",
   "pygments_lexer": "ipython3",
   "version": "3.8.0"
  }
 },
 "nbformat": 4,
 "nbformat_minor": 4
}